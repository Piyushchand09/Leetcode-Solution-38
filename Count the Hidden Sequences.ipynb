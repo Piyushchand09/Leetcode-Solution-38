{
 "cells": [
  {
   "cell_type": "code",
   "execution_count": null,
   "id": "8b3355a3",
   "metadata": {
    "vscode": {
     "languageId": "plaintext"
    }
   },
   "outputs": [],
   "source": [
    "# Count the Hidden Sequences\n",
    "class Solution:\n",
    "    def numberOfArrays(self, differences: List[int], lower: int, upper: int) -> int:\n",
    "        n = len(differences)\n",
    "        res = [0] * (n + 1)\n",
    "        res[0] = upper\n",
    "\n",
    "        for i in range(n):\n",
    "            res[i + 1] = res[i] - differences[n - i - 1]\n",
    "\n",
    "        good_mins = min(res) - lower + 1\n",
    "        bad_max = max(res) - upper\n",
    "\n",
    "        if good_mins - bad_max <= 0:\n",
    "            return 0\n",
    "        \n",
    "        if bad_max > 0:\n",
    "            return good_mins - bad_max\n",
    "        \n",
    "        return good_mins"
   ]
  }
 ],
 "metadata": {
  "kernelspec": {
   "display_name": "Python 3 (ipykernel)",
   "language": "python",
   "name": "python3"
  },
  "language_info": {
   "codemirror_mode": {
    "name": "ipython",
    "version": 3
   },
   "file_extension": ".py",
   "mimetype": "text/x-python",
   "name": "python",
   "nbconvert_exporter": "python",
   "pygments_lexer": "ipython3",
   "version": "3.12.4"
  }
 },
 "nbformat": 4,
 "nbformat_minor": 5
}
